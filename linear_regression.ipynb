{
 "cells": [
  {
   "cell_type": "code",
   "execution_count": 7,
   "metadata": {},
   "outputs": [],
   "source": [
    "%matplotlib inline\n",
    "import math\n",
    "import time \n",
    "import numpy as np\n",
    "import torch as t\n",
    "import matplotlib.pyplot as plt\n",
    "\n"
   ]
  },
  {
   "cell_type": "code",
   "execution_count": 3,
   "metadata": {},
   "outputs": [
    {
     "name": "stdout",
     "output_type": "stream",
     "text": [
      "0.005253314971923828 sec\n",
      "0.0002167224884033203 sec\n"
     ]
    }
   ],
   "source": [
    "## vectorization is faster! \n",
    "\n",
    "n = 1000\n",
    "a = t.ones(n)\n",
    "b = t.ones(n)\n",
    "c = t.zeros(n)\n",
    "t_0 = time.time()\n",
    "for i in range(n):\n",
    "    c[i] = a[i] + b[i]\n",
    "print(f\"{time.time() - t_0} sec\")\n",
    "\n",
    "t_0 = time.time()\n",
    "d = a + b\n",
    "print(f\"{time.time() - t_0} sec\")\n",
    "## not as big of a difference on my computer... 1 order of magnitude instead of 3"
   ]
  },
  {
   "attachments": {},
   "cell_type": "markdown",
   "metadata": {},
   "source": [
    "Building a simple MNIST classifier - a crude estimate using a hyperplane decision boundary between their means! (Take the vector between their means !)"
   ]
  },
  {
   "cell_type": "code",
   "execution_count": null,
   "metadata": {},
   "outputs": [],
   "source": [
    "## Load the dataset\n",
    "from torchvision import transforms \n",
    "import torchvision\n",
    "\n",
    "trans = []\n",
    "trans.append(transforms.ToTensor())\n",
    "print(trans)\n",
    "trans = transforms.Compose(trans)\n",
    "print(trans)\n",
    "\n",
    "train = torchvision.datasets.FashionMNIST(root = \"../data\", transform = trans, train = True, download = True)\n",
    "test = torchvision.datasets.FashionMNIST(root = \"../data\", transform = trans, train = False, download = True)\n"
   ]
  },
  {
   "cell_type": "code",
   "execution_count": null,
   "metadata": {},
   "outputs": [],
   "source": [
    "### separate into categories 0 and 1 based on label \n",
    "\n",
    "X_train_0 = t.stack([x[0] for x in train if x[1] == 0]).type(t.float32)\n",
    "X_train_1 = t.stack([x[0] for x in train if x[1] == 1]).type(t.float32)\n",
    "X_test = t.stack([x[0] for x in test if x[1]==0 or x[1]==1]).type(t.float32)\n",
    "y_test = t.stack([t.tensor(x[1]) for x in test if x[1]==0 or x[1]==1]).type(t.float32)\n",
    "print(X_train_0.shape, X_train_1.shape, X_test.shape, y_test.shape)\n",
    "\n",
    "## compute means of each dataset \n",
    "\n",
    "ave_0 = t.mean(X_train_0, axis = 0)\n",
    "ave_1 = t.mean(X_train_1, axis = 0)"
   ]
  },
  {
   "cell_type": "code",
   "execution_count": null,
   "metadata": {},
   "outputs": [],
   "source": [
    "_, axes = plt.subplots(1,2)\n",
    "## shirts \n",
    "axes[0].imshow(ave_0.reshape(28,28).tolist(), cmap = 'Greys')\n",
    "## pants \n",
    "axes[1].imshow(ave_1.reshape(28,28).tolist(), cmap = 'Greys')\n"
   ]
  },
  {
   "cell_type": "code",
   "execution_count": null,
   "metadata": {},
   "outputs": [],
   "source": [
    "####So, instead of learning the boundary, just take the difference between their means as the sicriminant vector\n",
    "##\n",
    "w = (ave_1 - ave_0).T\n",
    "weighted = X_test.reshape(2000, -1) @ w.flatten()\n",
    "plt.plot(weighted)\n",
    "plt.xlabel(\"test examples\")\n",
    "plt.ylabel(\"y_guess\")\n",
    "## looks like the threshold for the decision boundary should be somewhere around -22\n",
    "### it looks like most fluctuations happen around this point\n",
    "print(f\"median = {t.median(weighted)}\")\n",
    "\n",
    "acc = t.mean(((weighted > -22).type(y_test.dtype) == y_test).float(), dtype = t.float32)\n",
    "print(f\"Accuracy is not bad! {acc}\")"
   ]
  },
  {
   "cell_type": "code",
   "execution_count": null,
   "metadata": {},
   "outputs": [],
   "source": [
    "### More systematically: let's try it for a few thresholds and see if we can do better \n",
    "thresholds = t.arange(-100,5,1)\n",
    "\n",
    "preds_list = [(X_test.reshape(2000, -1) @ w.flatten()  > thresh).type(y_test.dtype) for thresh in thresholds]\n",
    "## average number of predictions above the threshold\n",
    "preds_mean = [t.mean(preds) for preds in preds_list]\n",
    "## accuracy \n",
    "acc_list = [t.mean((preds == y_test).float(), dtype = t.float32) for preds in preds_list]\n",
    "max_pos = t.argmax(t.tensor(acc_list))\n",
    "\n",
    "print(f\"threshold = {thresholds[max_pos.item()]}, max accuracy = {acc_list[max_pos.item()]}\")\n",
    "\n",
    "_, ax = plt.subplots(1,2)\n",
    "ax[0].plot(thresholds, preds_mean)\n",
    "ax[0].axvline(x=-25,color = \"m\",ls = \"--\")\n",
    "ax[0].set_xlabel(\"thresholds\")\n",
    "# should be roughly half for a balanced dataset \n",
    "ax[0].set_ylabel(\"average positive predictions above threshold\")\n",
    "ax[1].plot(thresholds, acc_list)\n",
    "ax[1].axvline(x=-25,color = 'm',ls = \"--\")\n",
    "ax[1].set_xlabel(\"thresholds\")\n",
    "ax[1].set_ylabel(\"Accuracy\")\n",
    "\n",
    "\n"
   ]
  },
  {
   "attachments": {},
   "cell_type": "markdown",
   "metadata": {},
   "source": []
  }
 ],
 "metadata": {
  "kernelspec": {
   "display_name": "torch-gpu",
   "language": "python",
   "name": "python3"
  },
  "language_info": {
   "codemirror_mode": {
    "name": "ipython",
    "version": 3
   },
   "file_extension": ".py",
   "mimetype": "text/x-python",
   "name": "python",
   "nbconvert_exporter": "python",
   "pygments_lexer": "ipython3",
   "version": "3.10.9 (main, Jan 11 2023, 09:18:18) [Clang 14.0.6 ]"
  },
  "orig_nbformat": 4,
  "vscode": {
   "interpreter": {
    "hash": "6e851e82dedee55c73100bfbe6682b3cabddc188516229e1e8f6342cda6eae37"
   }
  }
 },
 "nbformat": 4,
 "nbformat_minor": 2
}

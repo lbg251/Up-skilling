{
 "cells": [
  {
   "cell_type": "code",
   "execution_count": 5,
   "metadata": {},
   "outputs": [],
   "source": [
    "import torch as t\n",
    "from einops import rearrange, repeat\n",
    "import matplotlib.pyplot as plt\n"
   ]
  },
  {
   "cell_type": "code",
   "execution_count": 28,
   "metadata": {},
   "outputs": [
    {
     "name": "stdout",
     "output_type": "stream",
     "text": [
      "tensor([[0.3755, 0.8425, 0.0488, 0.5011, 0.1906, 0.0832],\n",
      "        [0.1651, 0.0321, 0.1337, 0.6341, 0.0354, 0.2502],\n",
      "        [0.3901, 0.7079, 0.3173, 0.4686, 0.9175, 0.3379],\n",
      "        [0.8120, 0.6763, 0.8213, 0.4784, 0.3264, 0.5488],\n",
      "        [0.3081, 0.4041, 0.8382, 0.0494, 0.1068, 0.3110]])\n"
     ]
    },
    {
     "data": {
      "text/plain": [
       "tensor([[True, True, True, True, True],\n",
       "        [True, True, True, True, True],\n",
       "        [True, True, True, True, True],\n",
       "        [True, True, True, True, True],\n",
       "        [True, True, True, True, True],\n",
       "        [True, True, True, True, True]])"
      ]
     },
     "execution_count": 28,
     "metadata": {},
     "output_type": "execute_result"
    }
   ],
   "source": [
    "##Prove that the transpose of the transpose of a matrix is the matrix itself:\n",
    "A = t.rand(size=(5,6))\n",
    "print(A)\n",
    "t.transpose(t.transpose(A,1,0),1,0) == A\n",
    "A.T == t.transpose(A,1,0)"
   ]
  },
  {
   "cell_type": "code",
   "execution_count": 39,
   "metadata": {},
   "outputs": [
    {
     "data": {
      "text/plain": [
       "tensor([True, True, True, True, True, True])"
      ]
     },
     "execution_count": 39,
     "metadata": {},
     "output_type": "execute_result"
    }
   ],
   "source": [
    "assert A.mean() == A.sum()/A.numel()\n",
    "A.mean(dim = 0)== A.sum(dim=0)/A.shape[0]"
   ]
  },
  {
   "cell_type": "code",
   "execution_count": 45,
   "metadata": {},
   "outputs": [
    {
     "data": {
      "text/plain": [
       "tensor([1.0000, 1.0000, 1.0000, 1.0000, 1.0000])"
      ]
     },
     "execution_count": 45,
     "metadata": {},
     "output_type": "execute_result"
    }
   ],
   "source": [
    "#Broadcast a sum to keep the shape\n",
    "A_sum = A.sum(dim = 1, keepdims= True)\n",
    "(A/A_sum).sum(dim=1)"
   ]
  },
  {
   "cell_type": "code",
   "execution_count": 61,
   "metadata": {},
   "outputs": [
    {
     "data": {
      "text/plain": [
       "(tensor(0.2958), tensor(0.2958), tensor(0.2958))"
      ]
     },
     "execution_count": 61,
     "metadata": {},
     "output_type": "execute_result"
    }
   ],
   "source": [
    "## dot product \n",
    "\n",
    "a = t.rand((5,))\n",
    "b = t.rand((5,))\n",
    "t.dot(a,b), t.sum(a*b), t.dot(b,a)"
   ]
  },
  {
   "cell_type": "code",
   "execution_count": 68,
   "metadata": {},
   "outputs": [
    {
     "data": {
      "text/plain": [
       "tensor([[ 0.0000e+00,  0.0000e+00, -1.1921e-07,  0.0000e+00,  0.0000e+00],\n",
       "        [ 0.0000e+00,  0.0000e+00,  0.0000e+00,  2.9802e-08,  0.0000e+00],\n",
       "        [ 0.0000e+00,  0.0000e+00, -1.1921e-07,  0.0000e+00, -1.1921e-07],\n",
       "        [ 0.0000e+00,  0.0000e+00,  0.0000e+00,  0.0000e+00,  0.0000e+00],\n",
       "        [ 0.0000e+00,  0.0000e+00,  0.0000e+00,  0.0000e+00,  0.0000e+00]])"
      ]
     },
     "execution_count": 68,
     "metadata": {},
     "output_type": "execute_result"
    }
   ],
   "source": [
    "## matrix\n",
    "dims = A.shape\n",
    "B = t.rand((dims[1],dims[0]))\n",
    "assert B.T.shape == A.shape\n",
    "\n",
    "A@B - t.einsum(\"ij,jk-> ik\",A,B)"
   ]
  },
  {
   "cell_type": "code",
   "execution_count": 86,
   "metadata": {},
   "outputs": [
    {
     "name": "stdout",
     "output_type": "stream",
     "text": [
      "tensor(-2.3842e-07)\n"
     ]
    },
    {
     "data": {
      "text/plain": [
       "tensor(1.7432)"
      ]
     },
     "execution_count": 86,
     "metadata": {},
     "output_type": "execute_result"
    }
   ],
   "source": [
    "## norms \n",
    "## l2 norm - Euclidean distance \n",
    "assert t.norm(a) == (a**2).sum().sqrt()\n",
    "print(t.norm(A) - (A**2).sum().sqrt())\n",
    "## l1 norm - actual (summed) distance\n",
    "t.abs(a).sum()"
   ]
  },
  {
   "cell_type": "code",
   "execution_count": 88,
   "metadata": {},
   "outputs": [
    {
     "data": {
      "text/plain": [
       "tensor([[True, True, True, True, True],\n",
       "        [True, True, True, True, True],\n",
       "        [True, True, True, True, True],\n",
       "        [True, True, True, True, True],\n",
       "        [True, True, True, True, True],\n",
       "        [True, True, True, True, True]])"
      ]
     },
     "execution_count": 88,
     "metadata": {},
     "output_type": "execute_result"
    }
   ],
   "source": [
    "## The sum and transpose commute: \n",
    "A2 = t.rand(dims)\n",
    "A.T + A2.T == (A+A2).T"
   ]
  },
  {
   "cell_type": "code",
   "execution_count": 100,
   "metadata": {},
   "outputs": [
    {
     "name": "stdout",
     "output_type": "stream",
     "text": [
      "True\n",
      "True\n",
      "True\n"
     ]
    }
   ],
   "source": [
    "X = t.arange(24).reshape(2, 3, 4)\n",
    "nX = X.shape\n",
    "assert len(X) == X.shape[0]\n",
    "    \n",
    "print(X.sum(dim=0).shape == (nX[1], nX[2]))\n",
    "print(X.sum(dim=1).shape == (nX[0], nX[2]))\n",
    "print(X.sum(dim=2).shape == (nX[0], nX[1]))\n"
   ]
  },
  {
   "cell_type": "code",
   "execution_count": 107,
   "metadata": {},
   "outputs": [
    {
     "data": {
      "text/plain": [
       "(65.75712889109438, tensor(65.7571))"
      ]
     },
     "execution_count": 107,
     "metadata": {},
     "output_type": "execute_result"
    }
   ],
   "source": [
    "import numpy as np\n",
    "np.linalg.norm(X), (X**2).sum().sqrt()"
   ]
  },
  {
   "cell_type": "markdown",
   "metadata": {},
   "source": []
  },
  {
   "cell_type": "code",
   "execution_count": 116,
   "metadata": {},
   "outputs": [
    {
     "data": {
      "text/plain": [
       "tensor([[True, True, True,  ..., True, True, True],\n",
       "        [True, True, True,  ..., True, True, True],\n",
       "        [True, True, True,  ..., True, True, True],\n",
       "        ...,\n",
       "        [True, True, True,  ..., True, True, True],\n",
       "        [True, True, True,  ..., True, True, True],\n",
       "        [True, True, True,  ..., True, True, True]])"
      ]
     },
     "execution_count": 116,
     "metadata": {},
     "output_type": "execute_result"
    }
   ],
   "source": [
    "AA = t.rand((100,200))\n",
    "BB = t.rand((100,200))\n",
    "CC = t.rand((100,200))\n",
    "stacked = t.stack([AA,BB,CC])\n",
    "assert stacked.shape == (3,100,200)\n",
    "\n",
    "stacked[1] ==BB"
   ]
  },
  {
   "attachments": {},
   "cell_type": "markdown",
   "metadata": {},
   "source": []
  },
  {
   "cell_type": "code",
   "execution_count": null,
   "metadata": {},
   "outputs": [],
   "source": []
  },
  {
   "cell_type": "markdown",
   "metadata": {},
   "source": []
  },
  {
   "cell_type": "code",
   "execution_count": null,
   "metadata": {},
   "outputs": [],
   "source": []
  },
  {
   "cell_type": "code",
   "execution_count": null,
   "metadata": {},
   "outputs": [],
   "source": []
  },
  {
   "cell_type": "code",
   "execution_count": null,
   "metadata": {},
   "outputs": [],
   "source": []
  },
  {
   "cell_type": "code",
   "execution_count": null,
   "metadata": {},
   "outputs": [],
   "source": []
  },
  {
   "cell_type": "code",
   "execution_count": null,
   "metadata": {},
   "outputs": [],
   "source": []
  },
  {
   "cell_type": "code",
   "execution_count": null,
   "metadata": {},
   "outputs": [],
   "source": []
  },
  {
   "cell_type": "code",
   "execution_count": null,
   "metadata": {},
   "outputs": [],
   "source": [
    "\n",
    "### PCA : re-express a high-dim dataset (features) in terms of a lower dimensional dataset with minimal information loss\n",
    "\n",
    "#As an example, consider 2d data \n",
    "X = t.tensor([[.3,.5],[.4,.3],[.7,.4],[.5,.7],[.3,.2],[.9,.8],[.1,.2],[.2,.5],[.6,.9],[.2,.2],[.6,.8],[.4,.6],[.3,.4],[.6,.5],[.8,.5],[.8,.9],[.2,.3],[.7,.7],[.5,.5],[.6,.4]])\n",
    "# subtract the mean to normalize it \n",
    "print(X.mean(axis=0),len(X))\n",
    "X_0 = X - X.mean()\n",
    "assert X_0.mean() == 0\n",
    "## should be centered around 0 \n",
    "plt.scatter(X[:,0],X[:,1])\n",
    "plt.scatter(X_0[:,0],X_0[:,1])\n",
    "plt.xlabel('x1')\n",
    "plt.ylabel('x2')\n",
    "plt.legend([\"un-normalized\",\"normalized\"])"
   ]
  },
  {
   "cell_type": "code",
   "execution_count": 140,
   "metadata": {},
   "outputs": [
    {
     "data": {
      "text/plain": [
       "tensor([[ 0.0002, -0.0002],\n",
       "        [-0.0002,  0.0002]])"
      ]
     },
     "execution_count": 140,
     "metadata": {},
     "output_type": "execute_result"
    }
   ],
   "source": [
    "## Compute the variance between the random variables X1 and X2\n",
    "\n",
    "# test = t.tensor([[0, 2], [1, 1], [2, 0]],dtype=t.float32)\n",
    "# n = test.shape[0]\n",
    "# # mean_test = test.mean(dim=0)\n",
    "# test = (test -  test.mean(axis=0)).T\n",
    "# assert test.mean() == 0\n",
    "# cov_test = t.tensor([[t.sum(test[i]*test[j])/(n-1) for j in range(2)] for i in range(2)])\n",
    "# t.cov(test) - cov_test\n",
    "\n",
    "n = len(X_0)\n",
    "# positive covariance for all cases: direct relationship between the random variables\n",
    "## This gives a measure for the linear dependence \n",
    "var_2 = t.tensor([[t.sum(X_0.T[i]*X_0.T[j])/(n-1) for j in range(2)] for i in range(2)])\n",
    "var_2 - t.cov(X_0.T)\n",
    "\n",
    "\n"
   ]
  },
  {
   "cell_type": "code",
   "execution_count": 195,
   "metadata": {},
   "outputs": [
    {
     "name": "stderr",
     "output_type": "stream",
     "text": [
      "/var/folders/yj/gj5_5c_j1399_7h47zvzddtc0000gn/T/ipykernel_45580/1164615305.py:9: UserWarning: To copy construct from a tensor, it is recommended to use sourceTensor.clone().detach() or sourceTensor.clone().detach().requires_grad_(True), rather than torch.tensor(sourceTensor).\n",
      "  vecs = t.tensor(vecs, dtype = t.float32)\n"
     ]
    },
    {
     "data": {
      "text/plain": [
       "torch.return_types.linalg_eig(\n",
       "eigenvalues=tensor([0.0885+0.j, 0.0163+0.j]),\n",
       "eigenvectors=tensor([[ 0.7224+0.j, -0.6915+0.j],\n",
       "        [ 0.6915+0.j,  0.7224+0.j]]))"
      ]
     },
     "execution_count": 195,
     "metadata": {},
     "output_type": "execute_result"
    },
    {
     "data": {
      "image/png": "[encoded data removed]",
      "text/plain": [
       "<Figure size 640x480 with 1 Axes>"
      ]
     },
     "metadata": {},
     "output_type": "display_data"
    }
   ],
   "source": [
    "## Find eigenvectors - the ones whose directions remain unchanged after any linear transformation \n",
    "### number of eigenvectors == number of dimensions \n",
    "## project data onto principal directions\n",
    "\n",
    "\n",
    "C = t.cov(X_0.T)\n",
    "vals, vecs = t.linalg.eig(C)\n",
    "vecs.T.shape, X_0.T.shape\n",
    "vecs = t.tensor(vecs, dtype = t.float32)\n",
    "t.einsum(\"ij,jk -> ik\",vecs.T,X_0.T).T\n",
    "\n",
    "plt.plot(vecs[1])\n",
    "plt.scatter(X_0[:,0],X_0[:,1])\n",
    "plt.xlabel('x1')\n",
    "plt.ylabel('x2')\n",
    "t.linalg.eig(C)\n",
    "\n"
   ]
  },
  {
   "cell_type": "code",
   "execution_count": 190,
   "metadata": {},
   "outputs": [
    {
     "name": "stderr",
     "output_type": "stream",
     "text": [
      "/var/folders/yj/gj5_5c_j1399_7h47zvzddtc0000gn/T/ipykernel_45580/471845227.py:5: UserWarning: To copy construct from a tensor, it is recommended to use sourceTensor.clone().detach() or sourceTensor.clone().detach().requires_grad_(True), rather than torch.tensor(sourceTensor).\n",
      "  vecs = t.tensor(vecs, dtype = t.float32)\n"
     ]
    },
    {
     "data": {
      "text/plain": [
       "tensor([[-2.8284,  0.0000],\n",
       "        [ 0.0000,  0.0000],\n",
       "        [ 2.8284,  0.0000]])"
      ]
     },
     "execution_count": 190,
     "metadata": {},
     "output_type": "execute_result"
    }
   ],
   "source": [
    "XX = t.tensor([[-2,-2],[0,0],[2,2]],dtype = t.float)\n",
    "C = t.cov(XX.T)\n",
    "vals, vecs = t.linalg.eig(C)\n",
    "vecs.T.shape, XX.T.shape\n",
    "vecs = t.tensor(vecs, dtype = t.float32)\n",
    "t.einsum(\"ij,jk -> ik\",vecs.T,XX.T).T\n",
    "\n"
   ]
  },
  {
   "cell_type": "code",
   "execution_count": null,
   "metadata": {},
   "outputs": [],
   "source": []
  }
 ],
 "metadata": {
  "kernelspec": {
   "display_name": "torch-gpu",
   "language": "python",
   "name": "python3"
  },
  "language_info": {
   "codemirror_mode": {
    "name": "ipython",
    "version": 3
   },
   "file_extension": ".py",
   "mimetype": "text/x-python",
   "name": "python",
   "nbconvert_exporter": "python",
   "pygments_lexer": "ipython3",
   "version": "3.10.9"
  },
  "orig_nbformat": 4,
  "vscode": {
   "interpreter": {
    "hash": "6e851e82dedee55c73100bfbe6682b3cabddc188516229e1e8f6342cda6eae37"
   }
  }
 },
 "nbformat": 4,
 "nbformat_minor": 2
}

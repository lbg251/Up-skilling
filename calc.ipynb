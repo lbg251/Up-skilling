{
 "cells": [
  {
   "cell_type": "code",
   "execution_count": 27,
   "metadata": {},
   "outputs": [],
   "source": [
    "%matplotlib inline\n",
    "import numpy as np\n",
    "from matplotlib_inline import backend_inline\n",
    "import torch as t\n",
    "from matplotlib import pyplot as plt\n",
    "import matplotlib"
   ]
  },
  {
   "cell_type": "code",
   "execution_count": 5,
   "metadata": {},
   "outputs": [
    {
     "name": "stdout",
     "output_type": "stream",
     "text": [
      "h = 0.1, numerical limit = 2.3000000000000043\n",
      "h = 0.01, numerical limit = 2.0299999999999763\n",
      "h = 0.001, numerical limit = 2.002999999999311\n",
      "h = 0.0001, numerical limit = 2.0002999999979565\n",
      "h = 1e-05, numerical limit = 2.0000300000155846\n"
     ]
    }
   ],
   "source": [
    "## derivative of a function\n",
    "\n",
    "def f(x): \n",
    "    return 3 * x**2 - 4*x\n",
    "\n",
    "def finite_diff(func, x, h):\n",
    "    return (func(x+h) - func(x))/h\n",
    "\n",
    "x = 1\n",
    "for h in 10.0**np.arange(-1,-6,-1):\n",
    "    print(f\"h = {h}, numerical limit = {finite_diff(f,x,h)}\")"
   ]
  },
  {
   "cell_type": "code",
   "execution_count": 15,
   "metadata": {},
   "outputs": [],
   "source": [
    "def use_svg_display():\n",
    "    \"\"\"Use the svg format to display plot in jupyter\"\"\"\n",
    "    backend_inline.set_matplotlib_formats('svg')\n",
    "\n",
    "def set_figsize(figsize = (3.5,2.5)):\n",
    "    \"\"\"Set matplotlib figsize\"\"\"\n",
    "    use_svg_display()\n",
    "    plt.rcParams['figure.figsize'] = figsize\n",
    "\n",
    "def set_axes(axes, xlabel = None, ylabel = None, xlim = None, ylim = None, xscale ='linear', yscale = 'linear', legend = False):\n",
    "    \"\"\"Set axes attributes for matplotlib\"\"\"\n",
    "    axes.set_xlabel(xlabel), axes.set_ylabel(ylabel)\n",
    "    axes.set_xlim(xlim), axes.set_ylim(ylim)\n",
    "    axes.set_xscale(xscale), axes.set_yscale(yscale)\n",
    "    if legend:\n",
    "        axes.legend(legend)\n",
    "    axes.grid()"
   ]
  },
  {
   "cell_type": "code",
   "execution_count": 80,
   "metadata": {},
   "outputs": [],
   "source": [
    "def plot(X, Y = None, xlabel = None, ylabel = None, xlim = None, ylim = None, xscale ='linear', yscale = 'linear', legend = False,lines=('-', 'm--','g-.','r:'),figsize = (3.5,2.5), axes = None):\n",
    "    _, axes = plt.subplots(figsize = figsize)\n",
    "    ## X and Y should be input as a list\n",
    "    for x, y, line in zip(X,Y,lines):\n",
    "        axes.plot(x,y,line)\n",
    "    set_axes(axes, xlabel= xlabel, ylabel= ylabel, xlim=xlim, ylim=ylim, xscale=xscale, yscale=yscale, legend=legend)\n",
    "\n",
    "\n",
    "    "
   ]
  },
  {
   "cell_type": "code",
   "execution_count": 87,
   "metadata": {},
   "outputs": [
    {
     "name": "stderr",
     "output_type": "stream",
     "text": [
      "/var/folders/yj/gj5_5c_j1399_7h47zvzddtc0000gn/T/ipykernel_26253/2619821257.py:4: RuntimeWarning: divide by zero encountered in divide\n",
      "  plot([x,x], [x**3 - 1/x,4*x - 4], xlabel = 'x', ylabel ='g(x)', legend=['g(x)', 'Tangent at x =1'])\n"
     ]
    },
    {
     "data": {
      "image/png": "[encoded data removed]",
      "text/plain": [
       "<Figure size 350x250 with 1 Axes>"
      ]
     },
     "metadata": {},
     "output_type": "display_data"
    }
   ],
   "source": [
    "\n",
    "x = np.arange(0,3,0.1)\n",
    "#plot([x,x], [f(x),2 *x -3], xlabel = 'x', ylabel ='f(x)', legend=['f(x)', 'Tangent at x =1'])\n",
    "\n",
    "plot([x,x], [x**3 - 1/x,4*x - 4], xlabel = 'x', ylabel ='g(x)', legend=['g(x)', 'Tangent at x =1'])\n",
    "\n",
    "\n"
   ]
  },
  {
   "cell_type": "markdown",
   "metadata": {},
   "source": []
  },
  {
   "cell_type": "code",
   "execution_count": 74,
   "metadata": {},
   "outputs": [
    {
     "name": "stdout",
     "output_type": "stream",
     "text": [
      "[2, 2]\n",
      "[2, 2, 2, 1]\n",
      "[2, 2, 1]\n",
      "[2, 2, 1]\n",
      "[2, 2]\n"
     ]
    }
   ],
   "source": [
    "n=8\n",
    "width = [1,2,2,2,1]\n",
    "cases = [[2, 3], [1, 4], [2, 4], [2, 4], [2, 3]]\n",
    "mins = []\n",
    "for case in cases:\n",
    "    print(width[case[0]:case[1]+1])\n",
    "    mins.append(min(width[case[0]:case[1]]))\n",
    "    #print(mins)\n"
   ]
  },
  {
   "cell_type": "code",
   "execution_count": null,
   "metadata": {},
   "outputs": [],
   "source": []
  },
  {
   "attachments": {},
   "cell_type": "markdown",
   "metadata": {},
   "source": [
    "Automatic Differentiation in PyTorch! \n",
    "Builds a computational graph during a forward pass of how each function depends on the others \n",
    "Uses backprob and the chain rule to differentiate through the model to optimize the algorithm"
   ]
  },
  {
   "cell_type": "code",
   "execution_count": 95,
   "metadata": {},
   "outputs": [
    {
     "name": "stdout",
     "output_type": "stream",
     "text": [
      "tensor(28., grad_fn=<MulBackward0>)\n"
     ]
    },
    {
     "data": {
      "text/plain": [
       "tensor([True, True, True, True])"
      ]
     },
     "execution_count": 95,
     "metadata": {},
     "output_type": "execute_result"
    }
   ],
   "source": [
    "x = t.arange(4.0, requires_grad= True) # can also do x.requires_grad_(True) as second step\n",
    "x.grad # x's grad attribute. None by default \n",
    "\n",
    "## create a function of x\n",
    "y = 2 * t.dot(x,x)\n",
    "print(y)\n",
    "# use backward to get the gradient of y wrt x\n",
    "y.backward()\n",
    "x.grad == 4 * x "
   ]
  },
  {
   "cell_type": "code",
   "execution_count": 97,
   "metadata": {},
   "outputs": [
    {
     "data": {
      "text/plain": [
       "tensor([1., 1., 1., 1.])"
      ]
     },
     "execution_count": 97,
     "metadata": {},
     "output_type": "execute_result"
    }
   ],
   "source": [
    "## Gradients are added to x.grad every time a new function of x is calculated, unless we call: \n",
    "x.grad.zero_() #resets the gradient\n",
    "\n",
    "y = x.sum()\n",
    "y.backward()\n",
    "x.grad"
   ]
  },
  {
   "cell_type": "code",
   "execution_count": 107,
   "metadata": {},
   "outputs": [
    {
     "data": {
      "text/plain": [
       "tensor([0., 2., 4., 6.])"
      ]
     },
     "execution_count": 107,
     "metadata": {},
     "output_type": "execute_result"
    }
   ],
   "source": [
    "### If x is not a scalar, we can tell it the shape of the gradient \n",
    "x.grad.zero_()\n",
    "y = x * x\n",
    "y.backward(gradient=t.ones(len(y)))\n",
    "#y.sum().backward()\n",
    "x.grad"
   ]
  },
  {
   "cell_type": "code",
   "execution_count": 133,
   "metadata": {},
   "outputs": [
    {
     "name": "stdout",
     "output_type": "stream",
     "text": [
      "tensor([True, True, True, True])\n",
      "tensor([True, True, True, True])\n"
     ]
    },
    {
     "data": {
      "text/plain": [
       "tensor([True, True, True, True])"
      ]
     },
     "execution_count": 133,
     "metadata": {},
     "output_type": "execute_result"
    }
   ],
   "source": [
    "## Use detach() if you only want to consider the direct effect of later variables on earlier ones, and not the ones in between\n",
    "x = t.arange(4.0, requires_grad= True) # can also do x.requires_grad_(True) as second step\n",
    "\n",
    "# keeping y, usual chain rule\n",
    "y = x *x\n",
    "z = y * x\n",
    "\n",
    "z.sum().backward(retain_graph= True)\n",
    "#x.grad == u\n",
    "print(x.grad== 3 * x**2) ## d(x**3)\n",
    "\n",
    "x.grad.zero_()\n",
    "u = y.detach() #copy y and don't track it going forward\n",
    "z = u * x\n",
    "z.sum().backward()\n",
    "print(x.grad == u)\n",
    "\n",
    "# You can still calculate gradients of y! If we use retain_graph = True. Otherwise we can only go through it once \n",
    "x.grad.zero_()\n",
    "y.sum().backward()\n",
    "x.grad == 2*x"
   ]
  },
  {
   "cell_type": "markdown",
   "metadata": {},
   "source": []
  },
  {
   "cell_type": "code",
   "execution_count": 141,
   "metadata": {},
   "outputs": [
    {
     "data": {
      "text/plain": [
       "tensor(True)"
      ]
     },
     "execution_count": 141,
     "metadata": {},
     "output_type": "execute_result"
    }
   ],
   "source": [
    "## AD makes it easy to record derivatives even if they pass through loops, etc. \n",
    "\n",
    "# A linear function: \n",
    "def f(a):\n",
    "    b = 2 * a\n",
    "    while b.norm() < 1000:\n",
    "        b = b * 2\n",
    "    if b.sum() > 0:\n",
    "        c = b\n",
    "    else:\n",
    "        c = 100 * b\n",
    "    return c\n",
    "\n",
    "a = t.randn(size = (), requires_grad= True)\n",
    "d = f(a)\n",
    "d.backward()\n",
    "a.grad == d / a\n"
   ]
  },
  {
   "cell_type": "code",
   "execution_count": 164,
   "metadata": {},
   "outputs": [
    {
     "data": {
      "text/plain": [
       "[<matplotlib.lines.Line2D at 0x1699f92d0>,\n",
       " <matplotlib.lines.Line2D at 0x1699fbee0>]"
      ]
     },
     "execution_count": 164,
     "metadata": {},
     "output_type": "execute_result"
    },
    {
     "data": {
      "image/png": "[encoded data removed]",
      "text/plain": [
       "<Figure size 640x480 with 1 Axes>"
      ]
     },
     "metadata": {},
     "output_type": "display_data"
    }
   ],
   "source": [
    "x = t.arange(0,2*t.pi,step=.1,requires_grad= True)\n",
    "y = t.sin(x)\n",
    "y.sum().backward()\n",
    "x.grad == t.cos(x)\n",
    "\n",
    "plt.plot(x.detach().numpy(), y.detach().numpy(), '-',x.detach().numpy(), x.grad.detach().numpy(), 'm--' ) #detach to get rid of grad \n",
    "\n"
   ]
  },
  {
   "cell_type": "code",
   "execution_count": null,
   "metadata": {},
   "outputs": [],
   "source": []
  }
 ],
 "metadata": {
  "kernelspec": {
   "display_name": "torch-gpu",
   "language": "python",
   "name": "python3"
  },
  "language_info": {
   "codemirror_mode": {
    "name": "ipython",
    "version": 3
   },
   "file_extension": ".py",
   "mimetype": "text/x-python",
   "name": "python",
   "nbconvert_exporter": "python",
   "pygments_lexer": "ipython3",
   "version": "3.10.9 (main, Jan 11 2023, 09:18:18) [Clang 14.0.6 ]"
  },
  "orig_nbformat": 4,
  "vscode": {
   "interpreter": {
    "hash": "6e851e82dedee55c73100bfbe6682b3cabddc188516229e1e8f6342cda6eae37"
   }
  }
 },
 "nbformat": 4,
 "nbformat_minor": 2
}
